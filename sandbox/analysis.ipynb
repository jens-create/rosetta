{
 "cells": [
  {
   "cell_type": "code",
   "execution_count": null,
   "metadata": {},
   "outputs": [],
   "source": [
    "\"validity\": {\n",
    "        \"AssessContext\": {\n",
    "            \"valid_function_args\": 0.6590730557737627,\n",
    "            \"valid_indicator\": 0.783974862529458,\n",
    "            \"valid_json\": 0.6590730557737627,\n",
    "            \"not_none_output\": 0.6025137470542027\n",
    "        },\n",
    "        \"Wikipedia\": {\n",
    "            \"valid_function_args\": 0.9732914375490966,\n",
    "            \"valid_indicator\": 1.0,\n",
    "            \"valid_json\": 0.9732914375490966,\n",
    "            \"not_none_output\": 0.783974862529458\n",
    "        }\n",
    "    },"
   ]
  },
  {
   "cell_type": "code",
   "execution_count": 19,
   "metadata": {},
   "outputs": [
    {
     "data": {
      "application/vnd.plotly.v1+json": {
       "config": {
        "plotlyServerURL": "https://plot.ly"
       },
       "data": [
        {
         "link": {
          "source": [
           0,
           0,
           0,
           1,
           3,
           3,
           3
          ],
          "target": [
           1,
           4,
           2,
           3,
           4,
           5,
           6
          ],
          "value": [
           78.4,
           2.7,
           18.9,
           78.4,
           12.4,
           60.3,
           5.7
          ]
         },
         "node": {
          "label": [
           "Wikipedia",
           "Summarize",
           "No search results",
           "AssessContext",
           "Invalid function arguments",
           "Relevant context",
           "Irrelevant context"
          ],
          "line": {
           "color": "black",
           "width": 0.3
          },
          "pad": 15,
          "thickness": 20
         },
         "type": "sankey"
        }
       ],
       "layout": {
        "font": {
         "size": 10
        },
        "template": {
         "data": {
          "bar": [
           {
            "error_x": {
             "color": "#2a3f5f"
            },
            "error_y": {
             "color": "#2a3f5f"
            },
            "marker": {
             "line": {
              "color": "#E5ECF6",
              "width": 0.5
             },
             "pattern": {
              "fillmode": "overlay",
              "size": 10,
              "solidity": 0.2
             }
            },
            "type": "bar"
           }
          ],
          "barpolar": [
           {
            "marker": {
             "line": {
              "color": "#E5ECF6",
              "width": 0.5
             },
             "pattern": {
              "fillmode": "overlay",
              "size": 10,
              "solidity": 0.2
             }
            },
            "type": "barpolar"
           }
          ],
          "carpet": [
           {
            "aaxis": {
             "endlinecolor": "#2a3f5f",
             "gridcolor": "white",
             "linecolor": "white",
             "minorgridcolor": "white",
             "startlinecolor": "#2a3f5f"
            },
            "baxis": {
             "endlinecolor": "#2a3f5f",
             "gridcolor": "white",
             "linecolor": "white",
             "minorgridcolor": "white",
             "startlinecolor": "#2a3f5f"
            },
            "type": "carpet"
           }
          ],
          "choropleth": [
           {
            "colorbar": {
             "outlinewidth": 0,
             "ticks": ""
            },
            "type": "choropleth"
           }
          ],
          "contour": [
           {
            "colorbar": {
             "outlinewidth": 0,
             "ticks": ""
            },
            "colorscale": [
             [
              0,
              "#0d0887"
             ],
             [
              0.1111111111111111,
              "#46039f"
             ],
             [
              0.2222222222222222,
              "#7201a8"
             ],
             [
              0.3333333333333333,
              "#9c179e"
             ],
             [
              0.4444444444444444,
              "#bd3786"
             ],
             [
              0.5555555555555556,
              "#d8576b"
             ],
             [
              0.6666666666666666,
              "#ed7953"
             ],
             [
              0.7777777777777778,
              "#fb9f3a"
             ],
             [
              0.8888888888888888,
              "#fdca26"
             ],
             [
              1,
              "#f0f921"
             ]
            ],
            "type": "contour"
           }
          ],
          "contourcarpet": [
           {
            "colorbar": {
             "outlinewidth": 0,
             "ticks": ""
            },
            "type": "contourcarpet"
           }
          ],
          "heatmap": [
           {
            "colorbar": {
             "outlinewidth": 0,
             "ticks": ""
            },
            "colorscale": [
             [
              0,
              "#0d0887"
             ],
             [
              0.1111111111111111,
              "#46039f"
             ],
             [
              0.2222222222222222,
              "#7201a8"
             ],
             [
              0.3333333333333333,
              "#9c179e"
             ],
             [
              0.4444444444444444,
              "#bd3786"
             ],
             [
              0.5555555555555556,
              "#d8576b"
             ],
             [
              0.6666666666666666,
              "#ed7953"
             ],
             [
              0.7777777777777778,
              "#fb9f3a"
             ],
             [
              0.8888888888888888,
              "#fdca26"
             ],
             [
              1,
              "#f0f921"
             ]
            ],
            "type": "heatmap"
           }
          ],
          "heatmapgl": [
           {
            "colorbar": {
             "outlinewidth": 0,
             "ticks": ""
            },
            "colorscale": [
             [
              0,
              "#0d0887"
             ],
             [
              0.1111111111111111,
              "#46039f"
             ],
             [
              0.2222222222222222,
              "#7201a8"
             ],
             [
              0.3333333333333333,
              "#9c179e"
             ],
             [
              0.4444444444444444,
              "#bd3786"
             ],
             [
              0.5555555555555556,
              "#d8576b"
             ],
             [
              0.6666666666666666,
              "#ed7953"
             ],
             [
              0.7777777777777778,
              "#fb9f3a"
             ],
             [
              0.8888888888888888,
              "#fdca26"
             ],
             [
              1,
              "#f0f921"
             ]
            ],
            "type": "heatmapgl"
           }
          ],
          "histogram": [
           {
            "marker": {
             "pattern": {
              "fillmode": "overlay",
              "size": 10,
              "solidity": 0.2
             }
            },
            "type": "histogram"
           }
          ],
          "histogram2d": [
           {
            "colorbar": {
             "outlinewidth": 0,
             "ticks": ""
            },
            "colorscale": [
             [
              0,
              "#0d0887"
             ],
             [
              0.1111111111111111,
              "#46039f"
             ],
             [
              0.2222222222222222,
              "#7201a8"
             ],
             [
              0.3333333333333333,
              "#9c179e"
             ],
             [
              0.4444444444444444,
              "#bd3786"
             ],
             [
              0.5555555555555556,
              "#d8576b"
             ],
             [
              0.6666666666666666,
              "#ed7953"
             ],
             [
              0.7777777777777778,
              "#fb9f3a"
             ],
             [
              0.8888888888888888,
              "#fdca26"
             ],
             [
              1,
              "#f0f921"
             ]
            ],
            "type": "histogram2d"
           }
          ],
          "histogram2dcontour": [
           {
            "colorbar": {
             "outlinewidth": 0,
             "ticks": ""
            },
            "colorscale": [
             [
              0,
              "#0d0887"
             ],
             [
              0.1111111111111111,
              "#46039f"
             ],
             [
              0.2222222222222222,
              "#7201a8"
             ],
             [
              0.3333333333333333,
              "#9c179e"
             ],
             [
              0.4444444444444444,
              "#bd3786"
             ],
             [
              0.5555555555555556,
              "#d8576b"
             ],
             [
              0.6666666666666666,
              "#ed7953"
             ],
             [
              0.7777777777777778,
              "#fb9f3a"
             ],
             [
              0.8888888888888888,
              "#fdca26"
             ],
             [
              1,
              "#f0f921"
             ]
            ],
            "type": "histogram2dcontour"
           }
          ],
          "mesh3d": [
           {
            "colorbar": {
             "outlinewidth": 0,
             "ticks": ""
            },
            "type": "mesh3d"
           }
          ],
          "parcoords": [
           {
            "line": {
             "colorbar": {
              "outlinewidth": 0,
              "ticks": ""
             }
            },
            "type": "parcoords"
           }
          ],
          "pie": [
           {
            "automargin": true,
            "type": "pie"
           }
          ],
          "scatter": [
           {
            "fillpattern": {
             "fillmode": "overlay",
             "size": 10,
             "solidity": 0.2
            },
            "type": "scatter"
           }
          ],
          "scatter3d": [
           {
            "line": {
             "colorbar": {
              "outlinewidth": 0,
              "ticks": ""
             }
            },
            "marker": {
             "colorbar": {
              "outlinewidth": 0,
              "ticks": ""
             }
            },
            "type": "scatter3d"
           }
          ],
          "scattercarpet": [
           {
            "marker": {
             "colorbar": {
              "outlinewidth": 0,
              "ticks": ""
             }
            },
            "type": "scattercarpet"
           }
          ],
          "scattergeo": [
           {
            "marker": {
             "colorbar": {
              "outlinewidth": 0,
              "ticks": ""
             }
            },
            "type": "scattergeo"
           }
          ],
          "scattergl": [
           {
            "marker": {
             "colorbar": {
              "outlinewidth": 0,
              "ticks": ""
             }
            },
            "type": "scattergl"
           }
          ],
          "scattermapbox": [
           {
            "marker": {
             "colorbar": {
              "outlinewidth": 0,
              "ticks": ""
             }
            },
            "type": "scattermapbox"
           }
          ],
          "scatterpolar": [
           {
            "marker": {
             "colorbar": {
              "outlinewidth": 0,
              "ticks": ""
             }
            },
            "type": "scatterpolar"
           }
          ],
          "scatterpolargl": [
           {
            "marker": {
             "colorbar": {
              "outlinewidth": 0,
              "ticks": ""
             }
            },
            "type": "scatterpolargl"
           }
          ],
          "scatterternary": [
           {
            "marker": {
             "colorbar": {
              "outlinewidth": 0,
              "ticks": ""
             }
            },
            "type": "scatterternary"
           }
          ],
          "surface": [
           {
            "colorbar": {
             "outlinewidth": 0,
             "ticks": ""
            },
            "colorscale": [
             [
              0,
              "#0d0887"
             ],
             [
              0.1111111111111111,
              "#46039f"
             ],
             [
              0.2222222222222222,
              "#7201a8"
             ],
             [
              0.3333333333333333,
              "#9c179e"
             ],
             [
              0.4444444444444444,
              "#bd3786"
             ],
             [
              0.5555555555555556,
              "#d8576b"
             ],
             [
              0.6666666666666666,
              "#ed7953"
             ],
             [
              0.7777777777777778,
              "#fb9f3a"
             ],
             [
              0.8888888888888888,
              "#fdca26"
             ],
             [
              1,
              "#f0f921"
             ]
            ],
            "type": "surface"
           }
          ],
          "table": [
           {
            "cells": {
             "fill": {
              "color": "#EBF0F8"
             },
             "line": {
              "color": "white"
             }
            },
            "header": {
             "fill": {
              "color": "#C8D4E3"
             },
             "line": {
              "color": "white"
             }
            },
            "type": "table"
           }
          ]
         },
         "layout": {
          "annotationdefaults": {
           "arrowcolor": "#2a3f5f",
           "arrowhead": 0,
           "arrowwidth": 1
          },
          "autotypenumbers": "strict",
          "coloraxis": {
           "colorbar": {
            "outlinewidth": 0,
            "ticks": ""
           }
          },
          "colorscale": {
           "diverging": [
            [
             0,
             "#8e0152"
            ],
            [
             0.1,
             "#c51b7d"
            ],
            [
             0.2,
             "#de77ae"
            ],
            [
             0.3,
             "#f1b6da"
            ],
            [
             0.4,
             "#fde0ef"
            ],
            [
             0.5,
             "#f7f7f7"
            ],
            [
             0.6,
             "#e6f5d0"
            ],
            [
             0.7,
             "#b8e186"
            ],
            [
             0.8,
             "#7fbc41"
            ],
            [
             0.9,
             "#4d9221"
            ],
            [
             1,
             "#276419"
            ]
           ],
           "sequential": [
            [
             0,
             "#0d0887"
            ],
            [
             0.1111111111111111,
             "#46039f"
            ],
            [
             0.2222222222222222,
             "#7201a8"
            ],
            [
             0.3333333333333333,
             "#9c179e"
            ],
            [
             0.4444444444444444,
             "#bd3786"
            ],
            [
             0.5555555555555556,
             "#d8576b"
            ],
            [
             0.6666666666666666,
             "#ed7953"
            ],
            [
             0.7777777777777778,
             "#fb9f3a"
            ],
            [
             0.8888888888888888,
             "#fdca26"
            ],
            [
             1,
             "#f0f921"
            ]
           ],
           "sequentialminus": [
            [
             0,
             "#0d0887"
            ],
            [
             0.1111111111111111,
             "#46039f"
            ],
            [
             0.2222222222222222,
             "#7201a8"
            ],
            [
             0.3333333333333333,
             "#9c179e"
            ],
            [
             0.4444444444444444,
             "#bd3786"
            ],
            [
             0.5555555555555556,
             "#d8576b"
            ],
            [
             0.6666666666666666,
             "#ed7953"
            ],
            [
             0.7777777777777778,
             "#fb9f3a"
            ],
            [
             0.8888888888888888,
             "#fdca26"
            ],
            [
             1,
             "#f0f921"
            ]
           ]
          },
          "colorway": [
           "#636efa",
           "#EF553B",
           "#00cc96",
           "#ab63fa",
           "#FFA15A",
           "#19d3f3",
           "#FF6692",
           "#B6E880",
           "#FF97FF",
           "#FECB52"
          ],
          "font": {
           "color": "#2a3f5f"
          },
          "geo": {
           "bgcolor": "white",
           "lakecolor": "white",
           "landcolor": "#E5ECF6",
           "showlakes": true,
           "showland": true,
           "subunitcolor": "white"
          },
          "hoverlabel": {
           "align": "left"
          },
          "hovermode": "closest",
          "mapbox": {
           "style": "light"
          },
          "paper_bgcolor": "white",
          "plot_bgcolor": "#E5ECF6",
          "polar": {
           "angularaxis": {
            "gridcolor": "white",
            "linecolor": "white",
            "ticks": ""
           },
           "bgcolor": "#E5ECF6",
           "radialaxis": {
            "gridcolor": "white",
            "linecolor": "white",
            "ticks": ""
           }
          },
          "scene": {
           "xaxis": {
            "backgroundcolor": "#E5ECF6",
            "gridcolor": "white",
            "gridwidth": 2,
            "linecolor": "white",
            "showbackground": true,
            "ticks": "",
            "zerolinecolor": "white"
           },
           "yaxis": {
            "backgroundcolor": "#E5ECF6",
            "gridcolor": "white",
            "gridwidth": 2,
            "linecolor": "white",
            "showbackground": true,
            "ticks": "",
            "zerolinecolor": "white"
           },
           "zaxis": {
            "backgroundcolor": "#E5ECF6",
            "gridcolor": "white",
            "gridwidth": 2,
            "linecolor": "white",
            "showbackground": true,
            "ticks": "",
            "zerolinecolor": "white"
           }
          },
          "shapedefaults": {
           "line": {
            "color": "#2a3f5f"
           }
          },
          "ternary": {
           "aaxis": {
            "gridcolor": "white",
            "linecolor": "white",
            "ticks": ""
           },
           "baxis": {
            "gridcolor": "white",
            "linecolor": "white",
            "ticks": ""
           },
           "bgcolor": "#E5ECF6",
           "caxis": {
            "gridcolor": "white",
            "linecolor": "white",
            "ticks": ""
           }
          },
          "title": {
           "x": 0.05
          },
          "xaxis": {
           "automargin": true,
           "gridcolor": "white",
           "linecolor": "white",
           "ticks": "",
           "title": {
            "standoff": 15
           },
           "zerolinecolor": "white",
           "zerolinewidth": 2
          },
          "yaxis": {
           "automargin": true,
           "gridcolor": "white",
           "linecolor": "white",
           "ticks": "",
           "title": {
            "standoff": 15
           },
           "zerolinecolor": "white",
           "zerolinewidth": 2
          }
         }
        },
        "title": {
         "text": "Flow of the CoT agent"
        }
       }
      }
     },
     "metadata": {},
     "output_type": "display_data"
    }
   ],
   "source": [
    "import plotly.graph_objects as go\n",
    "# Adjusted data for the Sankey diagram to reflect the updated flow\n",
    "labels = [\"Wikipedia\", \"Summarize\", \"No search results\",\"AssessContext\", \"Invalid function arguments\",  \"Relevant context\", \"Irrelevant context\"]\n",
    "\n",
    "# Updating sources and targets to reflect the new flow\n",
    "source = [0, 0, 0, 1, 3, 3,  3]  # Wikipedia to outputs and AssessContext\n",
    "target = [1, 4, 2, 3, 4, 5,  6]  # Outputs and Invalid/No Result\n",
    "\n",
    "# Values - Assuming that the sum of outputs from Wikipedia is 1\n",
    "value = [\n",
    "    78.4,  # Wikipedia to AssessContext ('not_none_output')\n",
    "    2.7,  \n",
    "    18.9,  \n",
    "    78.4,  # Wikipedia to Invalid/No Result (remainder for 'valid_json')\n",
    "    12.4,  # AssessContext to 'valid_function_args'\n",
    "    60.3,  # AssessContext to 'valid_indicator'\n",
    "    5.7,  # AssessContext to 'valid_json'\n",
    "]\n",
    "\n",
    "# Creating the updated Sankey diagram\n",
    "fig = go.Figure(data=[go.Sankey(\n",
    "    node=dict(\n",
    "      pad=15,\n",
    "      thickness=20,\n",
    "      line=dict(color=\"black\", width=0.3),\n",
    "      label=labels,\n",
    "    ),\n",
    "    link=dict(\n",
    "      source=source,\n",
    "      target=target,\n",
    "      value=value\n",
    "    ))])\n",
    "\n",
    "fig.update_layout(title_text=\"Flow of the CoT agent\", font_size=10)\n",
    "fig.show()\n",
    "\n"
   ]
  },
  {
   "cell_type": "code",
   "execution_count": 106,
   "metadata": {},
   "outputs": [
    {
     "data": {
      "application/vnd.plotly.v1+json": {
       "config": {
        "plotlyServerURL": "https://plot.ly"
       },
       "data": [
        {
         "arrangement": "snap",
         "link": {
          "source": [
           0,
           0,
           0,
           1,
           3,
           3,
           3
          ],
          "target": [
           1,
           4,
           2,
           3,
           4,
           5,
           6
          ],
          "value": [
           78.4,
           2.7,
           18.9,
           78.4,
           12.4,
           60.3,
           5.7
          ]
         },
         "node": {
          "color": [
           "lightblue",
           "rgba(255, 127, 14, 0.5)",
           "rgba(148, 103, 189, 0.8)",
           "lightyellow",
           "rgba(214, 39, 40, 0.8)",
           "rgba(44, 160, 44, 0.8)",
           "rgba(140, 86, 75, 0.8)"
          ],
          "label": [
           "Wikipedia: 100%",
           "Summarize: 78.4%",
           "No search results: 18.9%",
           "Filter: 78.4%",
           "Invalid function arguments: 15.1%",
           "Relevant context: 60.3%",
           "Irrelevant context: 5.7%",
           "Correct answer: X%, Incorrect answer: Y%"
          ],
          "line": {
           "color": "black",
           "width": 0.5
          },
          "pad": 15,
          "thickness": 20,
          "x": [
           0.1,
           0.3,
           0.3,
           0.5,
           0.7,
           0.7,
           0.7,
           0.9,
           0.9
          ],
          "y": [
           0.1,
           0.1,
           0.82,
           0.1,
           0.8,
           0.1,
           0.5,
           0.1,
           0.7
          ]
         },
         "type": "sankey"
        }
       ],
       "layout": {
        "font": {
         "size": 14
        },
        "template": {
         "data": {
          "bar": [
           {
            "error_x": {
             "color": "#2a3f5f"
            },
            "error_y": {
             "color": "#2a3f5f"
            },
            "marker": {
             "line": {
              "color": "#E5ECF6",
              "width": 0.5
             },
             "pattern": {
              "fillmode": "overlay",
              "size": 10,
              "solidity": 0.2
             }
            },
            "type": "bar"
           }
          ],
          "barpolar": [
           {
            "marker": {
             "line": {
              "color": "#E5ECF6",
              "width": 0.5
             },
             "pattern": {
              "fillmode": "overlay",
              "size": 10,
              "solidity": 0.2
             }
            },
            "type": "barpolar"
           }
          ],
          "carpet": [
           {
            "aaxis": {
             "endlinecolor": "#2a3f5f",
             "gridcolor": "white",
             "linecolor": "white",
             "minorgridcolor": "white",
             "startlinecolor": "#2a3f5f"
            },
            "baxis": {
             "endlinecolor": "#2a3f5f",
             "gridcolor": "white",
             "linecolor": "white",
             "minorgridcolor": "white",
             "startlinecolor": "#2a3f5f"
            },
            "type": "carpet"
           }
          ],
          "choropleth": [
           {
            "colorbar": {
             "outlinewidth": 0,
             "ticks": ""
            },
            "type": "choropleth"
           }
          ],
          "contour": [
           {
            "colorbar": {
             "outlinewidth": 0,
             "ticks": ""
            },
            "colorscale": [
             [
              0,
              "#0d0887"
             ],
             [
              0.1111111111111111,
              "#46039f"
             ],
             [
              0.2222222222222222,
              "#7201a8"
             ],
             [
              0.3333333333333333,
              "#9c179e"
             ],
             [
              0.4444444444444444,
              "#bd3786"
             ],
             [
              0.5555555555555556,
              "#d8576b"
             ],
             [
              0.6666666666666666,
              "#ed7953"
             ],
             [
              0.7777777777777778,
              "#fb9f3a"
             ],
             [
              0.8888888888888888,
              "#fdca26"
             ],
             [
              1,
              "#f0f921"
             ]
            ],
            "type": "contour"
           }
          ],
          "contourcarpet": [
           {
            "colorbar": {
             "outlinewidth": 0,
             "ticks": ""
            },
            "type": "contourcarpet"
           }
          ],
          "heatmap": [
           {
            "colorbar": {
             "outlinewidth": 0,
             "ticks": ""
            },
            "colorscale": [
             [
              0,
              "#0d0887"
             ],
             [
              0.1111111111111111,
              "#46039f"
             ],
             [
              0.2222222222222222,
              "#7201a8"
             ],
             [
              0.3333333333333333,
              "#9c179e"
             ],
             [
              0.4444444444444444,
              "#bd3786"
             ],
             [
              0.5555555555555556,
              "#d8576b"
             ],
             [
              0.6666666666666666,
              "#ed7953"
             ],
             [
              0.7777777777777778,
              "#fb9f3a"
             ],
             [
              0.8888888888888888,
              "#fdca26"
             ],
             [
              1,
              "#f0f921"
             ]
            ],
            "type": "heatmap"
           }
          ],
          "heatmapgl": [
           {
            "colorbar": {
             "outlinewidth": 0,
             "ticks": ""
            },
            "colorscale": [
             [
              0,
              "#0d0887"
             ],
             [
              0.1111111111111111,
              "#46039f"
             ],
             [
              0.2222222222222222,
              "#7201a8"
             ],
             [
              0.3333333333333333,
              "#9c179e"
             ],
             [
              0.4444444444444444,
              "#bd3786"
             ],
             [
              0.5555555555555556,
              "#d8576b"
             ],
             [
              0.6666666666666666,
              "#ed7953"
             ],
             [
              0.7777777777777778,
              "#fb9f3a"
             ],
             [
              0.8888888888888888,
              "#fdca26"
             ],
             [
              1,
              "#f0f921"
             ]
            ],
            "type": "heatmapgl"
           }
          ],
          "histogram": [
           {
            "marker": {
             "pattern": {
              "fillmode": "overlay",
              "size": 10,
              "solidity": 0.2
             }
            },
            "type": "histogram"
           }
          ],
          "histogram2d": [
           {
            "colorbar": {
             "outlinewidth": 0,
             "ticks": ""
            },
            "colorscale": [
             [
              0,
              "#0d0887"
             ],
             [
              0.1111111111111111,
              "#46039f"
             ],
             [
              0.2222222222222222,
              "#7201a8"
             ],
             [
              0.3333333333333333,
              "#9c179e"
             ],
             [
              0.4444444444444444,
              "#bd3786"
             ],
             [
              0.5555555555555556,
              "#d8576b"
             ],
             [
              0.6666666666666666,
              "#ed7953"
             ],
             [
              0.7777777777777778,
              "#fb9f3a"
             ],
             [
              0.8888888888888888,
              "#fdca26"
             ],
             [
              1,
              "#f0f921"
             ]
            ],
            "type": "histogram2d"
           }
          ],
          "histogram2dcontour": [
           {
            "colorbar": {
             "outlinewidth": 0,
             "ticks": ""
            },
            "colorscale": [
             [
              0,
              "#0d0887"
             ],
             [
              0.1111111111111111,
              "#46039f"
             ],
             [
              0.2222222222222222,
              "#7201a8"
             ],
             [
              0.3333333333333333,
              "#9c179e"
             ],
             [
              0.4444444444444444,
              "#bd3786"
             ],
             [
              0.5555555555555556,
              "#d8576b"
             ],
             [
              0.6666666666666666,
              "#ed7953"
             ],
             [
              0.7777777777777778,
              "#fb9f3a"
             ],
             [
              0.8888888888888888,
              "#fdca26"
             ],
             [
              1,
              "#f0f921"
             ]
            ],
            "type": "histogram2dcontour"
           }
          ],
          "mesh3d": [
           {
            "colorbar": {
             "outlinewidth": 0,
             "ticks": ""
            },
            "type": "mesh3d"
           }
          ],
          "parcoords": [
           {
            "line": {
             "colorbar": {
              "outlinewidth": 0,
              "ticks": ""
             }
            },
            "type": "parcoords"
           }
          ],
          "pie": [
           {
            "automargin": true,
            "type": "pie"
           }
          ],
          "scatter": [
           {
            "fillpattern": {
             "fillmode": "overlay",
             "size": 10,
             "solidity": 0.2
            },
            "type": "scatter"
           }
          ],
          "scatter3d": [
           {
            "line": {
             "colorbar": {
              "outlinewidth": 0,
              "ticks": ""
             }
            },
            "marker": {
             "colorbar": {
              "outlinewidth": 0,
              "ticks": ""
             }
            },
            "type": "scatter3d"
           }
          ],
          "scattercarpet": [
           {
            "marker": {
             "colorbar": {
              "outlinewidth": 0,
              "ticks": ""
             }
            },
            "type": "scattercarpet"
           }
          ],
          "scattergeo": [
           {
            "marker": {
             "colorbar": {
              "outlinewidth": 0,
              "ticks": ""
             }
            },
            "type": "scattergeo"
           }
          ],
          "scattergl": [
           {
            "marker": {
             "colorbar": {
              "outlinewidth": 0,
              "ticks": ""
             }
            },
            "type": "scattergl"
           }
          ],
          "scattermapbox": [
           {
            "marker": {
             "colorbar": {
              "outlinewidth": 0,
              "ticks": ""
             }
            },
            "type": "scattermapbox"
           }
          ],
          "scatterpolar": [
           {
            "marker": {
             "colorbar": {
              "outlinewidth": 0,
              "ticks": ""
             }
            },
            "type": "scatterpolar"
           }
          ],
          "scatterpolargl": [
           {
            "marker": {
             "colorbar": {
              "outlinewidth": 0,
              "ticks": ""
             }
            },
            "type": "scatterpolargl"
           }
          ],
          "scatterternary": [
           {
            "marker": {
             "colorbar": {
              "outlinewidth": 0,
              "ticks": ""
             }
            },
            "type": "scatterternary"
           }
          ],
          "surface": [
           {
            "colorbar": {
             "outlinewidth": 0,
             "ticks": ""
            },
            "colorscale": [
             [
              0,
              "#0d0887"
             ],
             [
              0.1111111111111111,
              "#46039f"
             ],
             [
              0.2222222222222222,
              "#7201a8"
             ],
             [
              0.3333333333333333,
              "#9c179e"
             ],
             [
              0.4444444444444444,
              "#bd3786"
             ],
             [
              0.5555555555555556,
              "#d8576b"
             ],
             [
              0.6666666666666666,
              "#ed7953"
             ],
             [
              0.7777777777777778,
              "#fb9f3a"
             ],
             [
              0.8888888888888888,
              "#fdca26"
             ],
             [
              1,
              "#f0f921"
             ]
            ],
            "type": "surface"
           }
          ],
          "table": [
           {
            "cells": {
             "fill": {
              "color": "#EBF0F8"
             },
             "line": {
              "color": "white"
             }
            },
            "header": {
             "fill": {
              "color": "#C8D4E3"
             },
             "line": {
              "color": "white"
             }
            },
            "type": "table"
           }
          ]
         },
         "layout": {
          "annotationdefaults": {
           "arrowcolor": "#2a3f5f",
           "arrowhead": 0,
           "arrowwidth": 1
          },
          "autotypenumbers": "strict",
          "coloraxis": {
           "colorbar": {
            "outlinewidth": 0,
            "ticks": ""
           }
          },
          "colorscale": {
           "diverging": [
            [
             0,
             "#8e0152"
            ],
            [
             0.1,
             "#c51b7d"
            ],
            [
             0.2,
             "#de77ae"
            ],
            [
             0.3,
             "#f1b6da"
            ],
            [
             0.4,
             "#fde0ef"
            ],
            [
             0.5,
             "#f7f7f7"
            ],
            [
             0.6,
             "#e6f5d0"
            ],
            [
             0.7,
             "#b8e186"
            ],
            [
             0.8,
             "#7fbc41"
            ],
            [
             0.9,
             "#4d9221"
            ],
            [
             1,
             "#276419"
            ]
           ],
           "sequential": [
            [
             0,
             "#0d0887"
            ],
            [
             0.1111111111111111,
             "#46039f"
            ],
            [
             0.2222222222222222,
             "#7201a8"
            ],
            [
             0.3333333333333333,
             "#9c179e"
            ],
            [
             0.4444444444444444,
             "#bd3786"
            ],
            [
             0.5555555555555556,
             "#d8576b"
            ],
            [
             0.6666666666666666,
             "#ed7953"
            ],
            [
             0.7777777777777778,
             "#fb9f3a"
            ],
            [
             0.8888888888888888,
             "#fdca26"
            ],
            [
             1,
             "#f0f921"
            ]
           ],
           "sequentialminus": [
            [
             0,
             "#0d0887"
            ],
            [
             0.1111111111111111,
             "#46039f"
            ],
            [
             0.2222222222222222,
             "#7201a8"
            ],
            [
             0.3333333333333333,
             "#9c179e"
            ],
            [
             0.4444444444444444,
             "#bd3786"
            ],
            [
             0.5555555555555556,
             "#d8576b"
            ],
            [
             0.6666666666666666,
             "#ed7953"
            ],
            [
             0.7777777777777778,
             "#fb9f3a"
            ],
            [
             0.8888888888888888,
             "#fdca26"
            ],
            [
             1,
             "#f0f921"
            ]
           ]
          },
          "colorway": [
           "#636efa",
           "#EF553B",
           "#00cc96",
           "#ab63fa",
           "#FFA15A",
           "#19d3f3",
           "#FF6692",
           "#B6E880",
           "#FF97FF",
           "#FECB52"
          ],
          "font": {
           "color": "#2a3f5f"
          },
          "geo": {
           "bgcolor": "white",
           "lakecolor": "white",
           "landcolor": "#E5ECF6",
           "showlakes": true,
           "showland": true,
           "subunitcolor": "white"
          },
          "hoverlabel": {
           "align": "left"
          },
          "hovermode": "closest",
          "mapbox": {
           "style": "light"
          },
          "paper_bgcolor": "white",
          "plot_bgcolor": "#E5ECF6",
          "polar": {
           "angularaxis": {
            "gridcolor": "white",
            "linecolor": "white",
            "ticks": ""
           },
           "bgcolor": "#E5ECF6",
           "radialaxis": {
            "gridcolor": "white",
            "linecolor": "white",
            "ticks": ""
           }
          },
          "scene": {
           "xaxis": {
            "backgroundcolor": "#E5ECF6",
            "gridcolor": "white",
            "gridwidth": 2,
            "linecolor": "white",
            "showbackground": true,
            "ticks": "",
            "zerolinecolor": "white"
           },
           "yaxis": {
            "backgroundcolor": "#E5ECF6",
            "gridcolor": "white",
            "gridwidth": 2,
            "linecolor": "white",
            "showbackground": true,
            "ticks": "",
            "zerolinecolor": "white"
           },
           "zaxis": {
            "backgroundcolor": "#E5ECF6",
            "gridcolor": "white",
            "gridwidth": 2,
            "linecolor": "white",
            "showbackground": true,
            "ticks": "",
            "zerolinecolor": "white"
           }
          },
          "shapedefaults": {
           "line": {
            "color": "#2a3f5f"
           }
          },
          "ternary": {
           "aaxis": {
            "gridcolor": "white",
            "linecolor": "white",
            "ticks": ""
           },
           "baxis": {
            "gridcolor": "white",
            "linecolor": "white",
            "ticks": ""
           },
           "bgcolor": "#E5ECF6",
           "caxis": {
            "gridcolor": "white",
            "linecolor": "white",
            "ticks": ""
           }
          },
          "title": {
           "x": 0.05
          },
          "xaxis": {
           "automargin": true,
           "gridcolor": "white",
           "linecolor": "white",
           "ticks": "",
           "title": {
            "standoff": 15
           },
           "zerolinecolor": "white",
           "zerolinewidth": 2
          },
          "yaxis": {
           "automargin": true,
           "gridcolor": "white",
           "linecolor": "white",
           "ticks": "",
           "title": {
            "standoff": 15
           },
           "zerolinecolor": "white",
           "zerolinewidth": 2
          }
         }
        },
        "title": {
         "text": "Flow of the CoT agent"
        }
       }
      }
     },
     "metadata": {},
     "output_type": "display_data"
    }
   ],
   "source": [
    "import plotly.graph_objects as go\n",
    "\n",
    "# Node data\n",
    "mynode = dict(\n",
    "    pad=15,\n",
    "    thickness=20,\n",
    "    line=dict(color=\"black\", width=0.5),\n",
    "    label=[\"Wikipedia: 100%\", \"Summarize: 78.4%\", \"No search results: 18.9%\", \"Filter: 78.4%\", \n",
    "           \"Invalid function arguments: 15.1%\", \"Relevant context: 60.3%\", \"Irrelevant context: 5.7%\", \"Correct answer: X%, Incorrect answer: Y%\"],\n",
    "    x=[0.1, 0.3, 0.3, 0.5, 0.7, 0.7, 0.7, 0.9,0.9],  # Adjust x positions\n",
    "    y=[0.1, 0.1, 0.82, 0.1, 0.8, 0.1, 0.5, 0.1, 0.7],  # Adjust y positions\n",
    "    color=[\n",
    "\"lightblue\",#\"rgba(127, 127, 127, 0.8)\", \n",
    "\"rgba(255, 127, 14, 0.5)\",#\"rgba(23, 190, 207, 0.8)\" ,\n",
    "\"rgba(148, 103, 189, 0.8)\" ,\n",
    "\"lightyellow\" ,\n",
    "\"rgba(214, 39, 40, 0.8)\",\n",
    "\"rgba(44, 160, 44, 0.8)\",\n",
    "\"rgba(140, 86, 75, 0.8)\" ]  # Adjust colors\n",
    ")\n",
    "\n",
    "# Link data\n",
    "mylink = dict(\n",
    "    source=[0, 0, 0, 1, 3, 3, 3],  # Source nodes\n",
    "    target=[1, 4, 2, 3, 4, 5, 6],  # Target nodes\n",
    "    value=[78.4, 2.7, 18.9, 78.4, 12.4, 60.3, 5.7],  # Values\n",
    ")\n",
    "\n",
    "\n",
    "# Creating the Sankey diagram with custom node positions and colors\n",
    "fig = go.Figure(data=[go.Sankey(\n",
    "    arrangement='snap',\n",
    "    node=mynode,\n",
    "    link=mylink\n",
    ")])\n",
    "\n",
    "fig.update_layout(title_text=\"Flow of the CoT agent\", font_size=14)\n",
    "fig.show()"
   ]
  },
  {
   "cell_type": "code",
   "execution_count": null,
   "metadata": {},
   "outputs": [],
   "source": []
  },
  {
   "cell_type": "code",
   "execution_count": null,
   "metadata": {},
   "outputs": [],
   "source": []
  },
  {
   "cell_type": "code",
   "execution_count": 65,
   "metadata": {},
   "outputs": [],
   "source": [
    "import json\n",
    "import pandas as pd\n",
    "def load_file(file_path):\n",
    "    # Attempt to load the file again, treating each line as a dictionary\n",
    "    with open(file_path, 'r') as file:\n",
    "        file_content_dicts = [json.loads(line) for line in file]\n",
    "\n",
    "\n",
    "    # Convert the list of dictionaries to a pandas dataframe\n",
    "    df = pd.DataFrame(file_content_dicts)\n",
    "    return df\n",
    "\n",
    "\n",
    "#WikiCoT = r\"/Users/jensperregaardthorsen/git/rosetta/scratch/rosetta-results/USMLE/mixtral8x7b-instructv1/WikipediaCoTAgent/Prompt 11/Summarize True/Two-step False/Sumfilter True/14-01-24/5c0a66318f708e5c3cf877d963510dfe3c4cf35aee4b0f6b144dc7ae27ca62cf/dataset.jsonl\"\n",
    "WikiCoT = r\"/Users/jensperregaardthorsen/git/rosetta/scratch/rosetta-results/USMLE/mixtral8x7b-instructv1/WikipediaCoTAgent/Prompt 11/Summarize True/Two-step False/Sumfilter True/13-01-24/5c0a66318f708e5c3cf877d963510dfe3c4cf35aee4b0f6b144dc7ae27ca62cf/dataset.jsonl\""
   ]
  },
  {
   "cell_type": "code",
   "execution_count": 71,
   "metadata": {},
   "outputs": [
    {
     "data": {
      "text/plain": [
       "{'not_none_output': True,\n",
       " 'valid_function_args': True,\n",
       " 'valid_indicator': True,\n",
       " 'valid_json': True}"
      ]
     },
     "execution_count": 71,
     "metadata": {},
     "output_type": "execute_result"
    }
   ],
   "source": [
    "df[\"validity\"][0][\"Wikipedia\"]"
   ]
  },
  {
   "cell_type": "code",
   "execution_count": 133,
   "metadata": {},
   "outputs": [
    {
     "name": "stdout",
     "output_type": "stream",
     "text": [
      "{'AssessContext': {'not_none_output': False, 'valid_function_args': False, 'valid_indicator': False, 'valid_json': False}, 'Wikipedia': {'not_none_output': False, 'valid_function_args': False, 'valid_indicator': True, 'valid_json': False}}\n",
      "{'AssessContext': {'not_none_output': False, 'valid_function_args': False, 'valid_indicator': False, 'valid_json': False}, 'Wikipedia': {'not_none_output': False, 'valid_function_args': False, 'valid_indicator': True, 'valid_json': False}}\n",
      "{'AssessContext': {'not_none_output': False, 'valid_function_args': False, 'valid_indicator': False, 'valid_json': False}, 'Wikipedia': {'not_none_output': False, 'valid_function_args': False, 'valid_indicator': True, 'valid_json': False}}\n",
      "{'AssessContext': {'not_none_output': False, 'valid_function_args': False, 'valid_indicator': False, 'valid_json': False}, 'Wikipedia': {'not_none_output': False, 'valid_function_args': False, 'valid_indicator': True, 'valid_json': False}}\n",
      "{'AssessContext': {'not_none_output': False, 'valid_function_args': False, 'valid_indicator': False, 'valid_json': False}, 'Wikipedia': {'not_none_output': False, 'valid_function_args': False, 'valid_indicator': True, 'valid_json': False}}\n",
      "{'AssessContext': {'not_none_output': False, 'valid_function_args': False, 'valid_indicator': False, 'valid_json': False}, 'Wikipedia': {'not_none_output': False, 'valid_function_args': False, 'valid_indicator': True, 'valid_json': False}}\n",
      "{'AssessContext': {'not_none_output': False, 'valid_function_args': False, 'valid_indicator': False, 'valid_json': False}, 'Wikipedia': {'not_none_output': False, 'valid_function_args': False, 'valid_indicator': True, 'valid_json': False}}\n",
      "{'AssessContext': {'not_none_output': False, 'valid_function_args': False, 'valid_indicator': False, 'valid_json': False}, 'Wikipedia': {'not_none_output': False, 'valid_function_args': False, 'valid_indicator': True, 'valid_json': False}}\n",
      "{'AssessContext': {'not_none_output': False, 'valid_function_args': False, 'valid_indicator': False, 'valid_json': False}, 'Wikipedia': {'not_none_output': False, 'valid_function_args': False, 'valid_indicator': True, 'valid_json': False}}\n",
      "{'AssessContext': {'not_none_output': False, 'valid_function_args': False, 'valid_indicator': False, 'valid_json': False}, 'Wikipedia': {'not_none_output': False, 'valid_function_args': False, 'valid_indicator': True, 'valid_json': False}}\n",
      "{'AssessContext': {'not_none_output': False, 'valid_function_args': False, 'valid_indicator': False, 'valid_json': False}, 'Wikipedia': {'not_none_output': False, 'valid_function_args': False, 'valid_indicator': True, 'valid_json': False}}\n",
      "{'AssessContext': {'not_none_output': False, 'valid_function_args': False, 'valid_indicator': False, 'valid_json': False}, 'Wikipedia': {'not_none_output': False, 'valid_function_args': False, 'valid_indicator': True, 'valid_json': False}}\n",
      "{'AssessContext': {'not_none_output': False, 'valid_function_args': False, 'valid_indicator': False, 'valid_json': False}, 'Wikipedia': {'not_none_output': False, 'valid_function_args': False, 'valid_indicator': True, 'valid_json': False}}\n",
      "{'AssessContext': {'not_none_output': False, 'valid_function_args': False, 'valid_indicator': False, 'valid_json': False}, 'Wikipedia': {'not_none_output': False, 'valid_function_args': False, 'valid_indicator': True, 'valid_json': False}}\n",
      "{'AssessContext': {'not_none_output': False, 'valid_function_args': False, 'valid_indicator': False, 'valid_json': False}, 'Wikipedia': {'not_none_output': False, 'valid_function_args': False, 'valid_indicator': True, 'valid_json': False}}\n",
      "{'AssessContext': {'not_none_output': False, 'valid_function_args': False, 'valid_indicator': False, 'valid_json': False}, 'Wikipedia': {'not_none_output': False, 'valid_function_args': False, 'valid_indicator': True, 'valid_json': False}}\n",
      "{'AssessContext': {'not_none_output': False, 'valid_function_args': False, 'valid_indicator': False, 'valid_json': False}, 'Wikipedia': {'not_none_output': False, 'valid_function_args': False, 'valid_indicator': True, 'valid_json': False}}\n",
      "{'AssessContext': {'not_none_output': False, 'valid_function_args': False, 'valid_indicator': False, 'valid_json': False}, 'Wikipedia': {'not_none_output': False, 'valid_function_args': False, 'valid_indicator': True, 'valid_json': False}}\n",
      "{'AssessContext': {'not_none_output': False, 'valid_function_args': False, 'valid_indicator': False, 'valid_json': False}, 'Wikipedia': {'not_none_output': False, 'valid_function_args': False, 'valid_indicator': True, 'valid_json': False}}\n",
      "{'AssessContext': {'not_none_output': False, 'valid_function_args': False, 'valid_indicator': False, 'valid_json': False}, 'Wikipedia': {'not_none_output': False, 'valid_function_args': False, 'valid_indicator': True, 'valid_json': False}}\n",
      "{'AssessContext': {'not_none_output': False, 'valid_function_args': False, 'valid_indicator': False, 'valid_json': False}, 'Wikipedia': {'not_none_output': False, 'valid_function_args': False, 'valid_indicator': True, 'valid_json': False}}\n",
      "{'AssessContext': {'not_none_output': False, 'valid_function_args': False, 'valid_indicator': False, 'valid_json': False}, 'Wikipedia': {'not_none_output': False, 'valid_function_args': False, 'valid_indicator': True, 'valid_json': False}}\n",
      "{'AssessContext': {'not_none_output': False, 'valid_function_args': False, 'valid_indicator': False, 'valid_json': False}, 'Wikipedia': {'not_none_output': False, 'valid_function_args': False, 'valid_indicator': True, 'valid_json': False}}\n",
      "{'AssessContext': {'not_none_output': False, 'valid_function_args': False, 'valid_indicator': False, 'valid_json': False}, 'Wikipedia': {'not_none_output': False, 'valid_function_args': False, 'valid_indicator': True, 'valid_json': False}}\n",
      "{'AssessContext': {'not_none_output': False, 'valid_function_args': False, 'valid_indicator': False, 'valid_json': False}, 'Wikipedia': {'not_none_output': False, 'valid_function_args': False, 'valid_indicator': True, 'valid_json': False}}\n",
      "{'AssessContext': {'not_none_output': False, 'valid_function_args': False, 'valid_indicator': False, 'valid_json': False}, 'Wikipedia': {'not_none_output': False, 'valid_function_args': False, 'valid_indicator': True, 'valid_json': False}}\n",
      "NoSearch:  0.18931657501963864\n",
      "NoSearchCorrect:  0.11311861743912019\n",
      "NoSearchIncorrect:  0.07619795758051846\n",
      "\n",
      "SearchInvalidArgs:  0.02670856245090338\n",
      "SearchInvalidArgsCorrect:  0.0204241948153967\n",
      "SearchInvalidArgsIncorrect:  0.006284367635506678\n",
      "\n",
      "RelevantContext:  0.6025137470542027\n",
      "RelevantContextCorrect:  0.410840534171249\n",
      "RelevantContextIncorrect:  0.19167321288295366\n",
      "\n",
      "IrrelevantContext:  0.056559308719560095\n",
      "IrrelevantContextCorrect:  0.03377847604084839\n",
      "IrrelevantContextIncorrect:  0.022780832678711706\n",
      "\n",
      "FilterInvalidArgs:  0.1249018067556952\n",
      "FilterInvalidArgsCorrect:  0.0793401413982718\n",
      "FilterInvalidArgsIncorrect:  0.04556166535742341\n"
     ]
    }
   ],
   "source": [
    "df = load_file(WikiCoT)\n",
    "\n",
    "noSearch = 0\n",
    "noSearchCorrect = 0\n",
    "noSearchIncorrect = 0\n",
    "\n",
    "SearchInvalidArgs = 0\n",
    "SearchInvalidArgsCorrect = 0\n",
    "SearchInvalidArgsIncorrect = 0\n",
    "\n",
    "RelevantContext = 0\n",
    "RelevantContextCorrect = 0\n",
    "RelevantContextIncorrect = 0\n",
    "\n",
    "IrrelevantContext = 0\n",
    "IrrelevantContextCorrect = 0\n",
    "IrrelevantContextIncorrect = 0\n",
    "\n",
    "FilterInvalidArgs = 0\n",
    "FilterInvalidArgsCorrect = 0\n",
    "FilterInvalidArgsIncorrect = 0\n",
    "\n",
    "# generate column for rows of interest\n",
    "nosearch = []\n",
    "searchinvalidargs = []\n",
    "relevantcontext = []\n",
    "irrelevantcontext = []\n",
    "filterinvalidargs = []\n",
    "\n",
    "\n",
    "for index, row in df.iterrows():\n",
    "    #NO SEARCH\n",
    "    if row[\"validity\"][\"Wikipedia\"][\"not_none_output\"] == 0 and row[\"validity\"][\"Wikipedia\"][\"valid_function_args\"] ==1:\n",
    "        noSearch += 1\n",
    "        nosearch.append(True)\n",
    "        if row[\"exactmatch\"] == True:\n",
    "            noSearchCorrect += 1\n",
    "        else:\n",
    "            noSearchIncorrect += 1\n",
    "    else:\n",
    "        nosearch.append(False)\n",
    "\n",
    "    # SEARCH INVALID ARGS\n",
    "    if row[\"validity\"][\"Wikipedia\"][\"valid_function_args\"] == 0:\n",
    "        SearchInvalidArgs += 1\n",
    "        searchinvalidargs.append(True)\n",
    "        if row[\"exactmatch\"] == True:\n",
    "            SearchInvalidArgsCorrect += 1\n",
    "            print(row[\"validity\"])\n",
    "        else:\n",
    "            SearchInvalidArgsIncorrect += 1\n",
    "    else:\n",
    "        searchinvalidargs.append(False)\n",
    "\n",
    "    # RELEVANT CONTEXT\n",
    "    if row[\"validity\"][\"AssessContext\"][\"not_none_output\"] == 1:\n",
    "        RelevantContext += 1\n",
    "        relevantcontext.append(True)\n",
    "        if row[\"exactmatch\"] == True:\n",
    "            RelevantContextCorrect += 1\n",
    "        else:\n",
    "            RelevantContextIncorrect += 1\n",
    "    else:\n",
    "        relevantcontext.append(False)\n",
    "\n",
    "    # IRRELEVANT CONTEXT\n",
    "    if row[\"validity\"][\"AssessContext\"][\"not_none_output\"] == 0 and row[\"validity\"][\"AssessContext\"][\"valid_function_args\"] == 1:\n",
    "        IrrelevantContext += 1\n",
    "        irrelevantcontext.append(True)\n",
    "        if row[\"exactmatch\"] == True:\n",
    "            IrrelevantContextCorrect += 1\n",
    "        else:\n",
    "            IrrelevantContextIncorrect += 1\n",
    "    else:\n",
    "        irrelevantcontext.append(False)\n",
    "\n",
    "    if row[\"validity\"][\"AssessContext\"][\"valid_function_args\"] == 0 and row[\"validity\"][\"Wikipedia\"][\"not_none_output\"] == 1:\n",
    "        FilterInvalidArgs += 1\n",
    "        filterinvalidargs.append(True)\n",
    "        if row[\"exactmatch\"] == True:\n",
    "            FilterInvalidArgsCorrect += 1\n",
    "        else:\n",
    "            FilterInvalidArgsIncorrect += 1\n",
    "    else:\n",
    "        filterinvalidargs.append(False)\n",
    "    \n",
    "\n",
    "    \n",
    "    \n",
    "print(\"NoSearch: \", noSearch/len(df))\n",
    "print(\"NoSearchCorrect: \", noSearchCorrect/len(df))\n",
    "print(\"NoSearchIncorrect: \", noSearchIncorrect/len(df))\n",
    "print(\"\")\n",
    "print(\"SearchInvalidArgs: \", SearchInvalidArgs/len(df))\n",
    "print(\"SearchInvalidArgsCorrect: \", SearchInvalidArgsCorrect/len(df))\n",
    "print(\"SearchInvalidArgsIncorrect: \", SearchInvalidArgsIncorrect/len(df))\n",
    "print(\"\")\n",
    "print(\"RelevantContext: \", RelevantContext/len(df))\n",
    "print(\"RelevantContextCorrect: \", RelevantContextCorrect/len(df))\n",
    "print(\"RelevantContextIncorrect: \", RelevantContextIncorrect/len(df))\n",
    "print(\"\")\n",
    "print(\"IrrelevantContext: \", IrrelevantContext/len(df))\n",
    "print(\"IrrelevantContextCorrect: \", IrrelevantContextCorrect/len(df))\n",
    "print(\"IrrelevantContextIncorrect: \", IrrelevantContextIncorrect/len(df))\n",
    "print(\"\")\n",
    "print(\"FilterInvalidArgs: \", FilterInvalidArgs/len(df))\n",
    "print(\"FilterInvalidArgsCorrect: \", FilterInvalidArgsCorrect/len(df))\n",
    "print(\"FilterInvalidArgsIncorrect: \", FilterInvalidArgsIncorrect/len(df))\n"
   ]
  },
  {
   "cell_type": "code",
   "execution_count": 119,
   "metadata": {},
   "outputs": [
    {
     "name": "stdout",
     "output_type": "stream",
     "text": [
      "NoSearchCorrect:  0.5975103734439834\n",
      "SearchInvalidArgsCorrect:  0.7647058823529411\n",
      "RelevantContextCorrect:  0.681877444589309\n",
      "IrrelevantContextCorrect:  0.5972222222222222\n",
      "FilterInvalidArgsCorrect:  0.6352201257861635\n",
      "Total average:  0.6575019638648861\n"
     ]
    }
   ],
   "source": [
    "# calculate the percentage of correct answers for each step\n",
    "print(\"NoSearchCorrect: \", noSearchCorrect/noSearch)\n",
    "print(\"SearchInvalidArgsCorrect: \", SearchInvalidArgsCorrect/SearchInvalidArgs)\n",
    "print(\"RelevantContextCorrect: \", RelevantContextCorrect/RelevantContext)\n",
    "print(\"IrrelevantContextCorrect: \", IrrelevantContextCorrect/IrrelevantContext)\n",
    "print(\"FilterInvalidArgsCorrect: \", FilterInvalidArgsCorrect/FilterInvalidArgs)\n",
    "\n",
    "#Total average\n",
    "print(\"Total average: \", (noSearchCorrect+SearchInvalidArgsCorrect+RelevantContextCorrect+IrrelevantContextCorrect+FilterInvalidArgsCorrect)/len(df))\n"
   ]
  },
  {
   "cell_type": "code",
   "execution_count": 128,
   "metadata": {},
   "outputs": [],
   "source": [
    "# load baseline and WikiCoT and filter on relevant context\n",
    "def merge_baseline_and_agent(file_baseline, file_agent):\n",
    "    # Load the files\n",
    "    df_baseline = load_file(file_baseline)\n",
    "    df_agent = load_file(file_agent)\n",
    "\n",
    "    # Merge the two dataframes on the id column\n",
    "    df_merged = pd.merge(df_baseline, df_agent, on='id', suffixes=('_baseline', '_agent'))\n",
    "    return df_merged\n",
    "\n",
    "    \n",
    "CoT = r\"/Users/jensperregaardthorsen/git/rosetta/scratch/rosetta-results/USMLE/mixtral8x7b-instructv1/FewShotCoTAgent/Prompt 11/Summarize True/Two-step False/06-01-24/5ffc6b947ca08dfff3c2326dc1f17c82455da4429c719171799ac9f18fcc8283/dataset.jsonl\"\n",
    "WikiCoT = r\"/Users/jensperregaardthorsen/git/rosetta/scratch/rosetta-results/USMLE/mixtral8x7b-instructv1/WikipediaCoTAgent/Prompt 11/Summarize True/Two-step False/Sumfilter True/13-01-24/5c0a66318f708e5c3cf877d963510dfe3c4cf35aee4b0f6b144dc7ae27ca62cf/dataset.jsonl\""
   ]
  },
  {
   "cell_type": "code",
   "execution_count": 134,
   "metadata": {},
   "outputs": [],
   "source": [
    "df = merge_baseline_and_agent(CoT, WikiCoT)\n",
    "\n",
    "# add relevantcontext list\n",
    "df[\"relevantcontext\"] = relevantcontext\n",
    "df[\"irrelevantcontext\"] = irrelevantcontext\n",
    "df[\"filterinvalidargs\"] = filterinvalidargs\n",
    "df[\"searchinvalidargs\"] = searchinvalidargs\n",
    "df[\"nosearch\"] = nosearch\n",
    "\n",
    "# filter on relevant context\n"
   ]
  },
  {
   "cell_type": "code",
   "execution_count": 139,
   "metadata": {},
   "outputs": [
    {
     "name": "stdout",
     "output_type": "stream",
     "text": [
      "nosearch\n",
      "(241, 26)\n",
      "CoT Exactmatch 0.5892116182572614\n",
      "WikiCoT Exacthmatch 0.5975103734439834\n",
      "\n",
      "searchinvalidargs\n",
      "(34, 26)\n",
      "CoT Exactmatch 0.7941176470588235\n",
      "WikiCoT Exacthmatch 0.7647058823529411\n",
      "\n",
      "filterinvalidargs\n",
      "(159, 26)\n",
      "CoT Exactmatch 0.6037735849056604\n",
      "WikiCoT Exacthmatch 0.6352201257861635\n",
      "\n",
      "irrelevantcontext\n",
      "(72, 26)\n",
      "CoT Exactmatch 0.5833333333333334\n",
      "WikiCoT Exacthmatch 0.5972222222222222\n",
      "\n",
      "relevantcontext\n",
      "(767, 26)\n",
      "CoT Exactmatch 0.6740547588005215\n",
      "WikiCoT Exacthmatch 0.681877444589309\n",
      "\n",
      "average\n",
      "CoT Exactmatch 0.6472898664571878\n",
      "WikiCoT Exacthmatch 0.6575019638648861\n"
     ]
    }
   ],
   "source": [
    "for prop in [\"nosearch\", \"searchinvalidargs\", \"filterinvalidargs\", \"irrelevantcontext\", \"relevantcontext\"]:\n",
    "    df_ = df[df[prop] == True]\n",
    "    print(prop)\n",
    "    print(df_.shape)\n",
    "    print(\"CoT Exactmatch\", df_[\"exactmatch_baseline\"].mean())\n",
    "    print(\"WikiCoT Exacthmatch\", df_[\"exactmatch_agent\"].mean())\n",
    "    print(\"\")\n",
    "\n",
    "print(\"average\")\n",
    "print(\"CoT Exactmatch\", df[\"exactmatch_baseline\"].mean())\n",
    "print(\"WikiCoT Exacthmatch\", df[\"exactmatch_agent\"].mean())"
   ]
  },
  {
   "cell_type": "code",
   "execution_count": 132,
   "metadata": {},
   "outputs": [
    {
     "name": "stdout",
     "output_type": "stream",
     "text": [
      "CoT Exactmatch 0.6740547588005215\n",
      "WikiCoT Exacthmatch 0.681877444589309\n"
     ]
    }
   ],
   "source": [
    "# calculate the average exactmatch\n"
   ]
  }
 ],
 "metadata": {
  "kernelspec": {
   "display_name": ".venv",
   "language": "python",
   "name": "python3"
  },
  "language_info": {
   "codemirror_mode": {
    "name": "ipython",
    "version": 3
   },
   "file_extension": ".py",
   "mimetype": "text/x-python",
   "name": "python",
   "nbconvert_exporter": "python",
   "pygments_lexer": "ipython3",
   "version": "3.11.5"
  }
 },
 "nbformat": 4,
 "nbformat_minor": 2
}
